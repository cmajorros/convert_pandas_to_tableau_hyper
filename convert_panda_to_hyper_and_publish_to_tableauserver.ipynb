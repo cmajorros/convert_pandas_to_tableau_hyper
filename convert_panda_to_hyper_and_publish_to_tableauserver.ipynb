{
  "nbformat": 4,
  "nbformat_minor": 0,
  "metadata": {
    "kernelspec": {
      "display_name": "Python 3",
      "language": "python",
      "name": "python3"
    },
    "language_info": {
      "codemirror_mode": {
        "name": "ipython",
        "version": 3
      },
      "file_extension": ".py",
      "mimetype": "text/x-python",
      "name": "python",
      "nbconvert_exporter": "python",
      "pygments_lexer": "ipython3",
      "version": "3.7.0"
    },
    "colab": {
      "name": "Hyper_extension.ipynb",
      "provenance": [],
      "include_colab_link": true
    }
  },
  "cells": [
    {
      "cell_type": "markdown",
      "metadata": {
        "id": "view-in-github",
        "colab_type": "text"
      },
      "source": [
        "<a href=\"https://colab.research.google.com/github/cmajorros/convert_pandas_to_tableau_hyper/blob/main/convert_panda_to_hyper_and_publish_to_tableauserver.ipynb\" target=\"_parent\"><img src=\"https://colab.research.google.com/assets/colab-badge.svg\" alt=\"Open In Colab\"/></a>"
      ]
    },
    {
      "cell_type": "markdown",
      "metadata": {
        "id": "j_cAgnkhDFXM"
      },
      "source": [
        "**Use case description**\n",
        "\n",
        "1) Combine different datasource and calculation from multiple sources e.g MySQL database , csv , hadoop etc and perform some calculation using python\n",
        "\n",
        "2) Convert the output dataframe to Tableau hyperfile using library pantab.\n",
        "\n",
        "3) Publish the hyperfile to Tableau Server.\n",
        "\n",
        "**Step 1**\n",
        "\n",
        "Import all library and setting up the environment. \n",
        "\n",
        "  - To authenticate tableau server you need tableau serverclient to be installed \n",
        "  - Pantab for converting pandas to hyper \n"
      ]
    },
    {
      "cell_type": "code",
      "metadata": {
        "id": "4k3hUazvBy4t"
      },
      "source": [
        "!pip install pantab\n",
        "from tableauhyperapi import HyperProcess, Telemetry, Connection, CreateMode, NOT_NULLABLE, NULLABLE, SqlType, \\\n",
        "TableDefinition, Inserter, escape_name, escape_string_literal, HyperException, TableName\n",
        "from time import time\n",
        "import numpy as np\n",
        "import pandas as pd\n",
        "import os\n",
        "import mysql.connector as sql\n",
        "import pantab\n",
        "import tableauserverclient as TSC"
      ],
      "execution_count": null,
      "outputs": []
    },
    {
      "cell_type": "code",
      "metadata": {
        "id": "mYjCZ-wkBy4z",
        "outputId": "d16cd4df-f1e8-4521-9cba-497e26d3098c"
      },
      "source": [
        "Time = pd.read_csv(\"time.csv\",dtype={'Hour': int})\n",
        "print(Time)"
      ],
      "execution_count": null,
      "outputs": [
        {
          "output_type": "stream",
          "text": [
            "    Hour\n",
            "0      0\n",
            "1      1\n",
            "2      2\n",
            "3      3\n",
            "4      4\n",
            "5      5\n",
            "6      6\n",
            "7      7\n",
            "8      8\n",
            "9      9\n",
            "10    10\n",
            "11    11\n",
            "12    12\n",
            "13    13\n",
            "14    14\n",
            "15    15\n",
            "16    16\n",
            "17    17\n",
            "18    18\n",
            "19    19\n",
            "20    20\n",
            "21    21\n",
            "22    22\n",
            "23    23\n"
          ],
          "name": "stdout"
        }
      ]
    },
    {
      "cell_type": "code",
      "metadata": {
        "id": "fLzRHFfCBy4z"
      },
      "source": [
        "data_hyper = time"
      ],
      "execution_count": null,
      "outputs": []
    },
    {
      "cell_type": "markdown",
      "metadata": {
        "id": "XYhiaEvYG4-e"
      },
      "source": [
        "**Step 2:** \n",
        "Convert dataframe to hyper file and name as example.hyper"
      ]
    },
    {
      "cell_type": "code",
      "metadata": {
        "id": "bI2kySXKBy40"
      },
      "source": [
        "pantab.frame_to_hyper(data_hyper, \"example.hyper\", table=\"extract\")"
      ],
      "execution_count": null,
      "outputs": []
    },
    {
      "cell_type": "markdown",
      "metadata": {
        "id": "07J4mT_nH47b"
      },
      "source": [
        "**Step 3:**\n",
        "\n",
        "-  Login to Tableau server. In this scenario I will login to \"Default\" site by using fake username and ID. \n",
        "-  To make it more secure and preventing from password changing when you deploy the code. You can apply for token on Tableau server and use the token to authenticate.\n",
        "\n"
      ]
    },
    {
      "cell_type": "code",
      "metadata": {
        "id": "aCXfR7FRBy41"
      },
      "source": [
        "# Don't recommend saving your credentials in the script, store elsewhere\n",
        "tableau_auth = TSC.TableauAuth('admin',\n",
        "                               '111111', site_id = 'Default')\n",
        "server = TSC.Server('http://uat.tableau.yourcompanyname.com',\n",
        "                    use_server_version=False)"
      ],
      "execution_count": null,
      "outputs": []
    },
    {
      "cell_type": "markdown",
      "metadata": {
        "id": "gBuWGT6RJqm8"
      },
      "source": [
        "**step 4 : publishing the datasource**\n",
        "-  To publish the datasource I will overwrite the existing datasource (if any)\n",
        "-  You need to know the datasource ID before publishing. This can be checked on tableau server or Workgroup database.\n",
        "-  After publishing, we will signout from the server\n"
      ]
    },
    {
      "cell_type": "code",
      "metadata": {
        "id": "fs8A5SnYJpb3"
      },
      "source": [
        "\n",
        "#If Datasource with the same name exist it will overwrite.\n",
        "# Put the projectid you just found here, and name the datasource you want to publish\n",
        "mydatasourceitem = TSC.DatasourceItem('6',\n",
        "                                      name='example')\n",
        "item = server.datasources.publish(mydatasourceitem,\"/example.hyper\", 'Overwrite')\n",
        "print(\"{} published with id: {}\".format(item.name, item.id))\n",
        "\n",
        "server.auth.sign_out()"
      ],
      "execution_count": null,
      "outputs": []
    }
  ]
}